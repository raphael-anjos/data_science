{
 "cells": [
  {
   "cell_type": "markdown",
   "id": "07b5868e",
   "metadata": {},
   "source": [
    "# Projeto de Analise de Dados\n",
    "\n",
    "### Este projeto foi realizado com material de apoio de um mini-curso gratuito oferecido pela Hastag Treinamento.\n",
    "\n",
    "#### A prosposta é analisar uma base de dados de vendas e identificar algumas informações sobre a empresa como por exemplo qual é o ticket médio, para isso vamos utilizar a biblioteca Pandas e vamos criar um gráfico que mostra o valor total de faturamento por empresa."
   ]
  },
  {
   "cell_type": "markdown",
   "id": "929335ab",
   "metadata": {},
   "source": [
    "### Importando bibliotecas Python"
   ]
  },
  {
   "cell_type": "code",
   "execution_count": 11,
   "id": "10357f22",
   "metadata": {},
   "outputs": [],
   "source": [
    "import pandas as pd\n",
    "import numpy as np\n",
    "import plotly.express as px"
   ]
  },
  {
   "cell_type": "markdown",
   "id": "9bb5dfba",
   "metadata": {},
   "source": [
    "### Carregando base de dados"
   ]
  },
  {
   "cell_type": "code",
   "execution_count": 2,
   "id": "51b3b47a",
   "metadata": {},
   "outputs": [
    {
     "data": {
      "text/html": [
       "<div>\n",
       "<style scoped>\n",
       "    .dataframe tbody tr th:only-of-type {\n",
       "        vertical-align: middle;\n",
       "    }\n",
       "\n",
       "    .dataframe tbody tr th {\n",
       "        vertical-align: top;\n",
       "    }\n",
       "\n",
       "    .dataframe thead th {\n",
       "        text-align: right;\n",
       "    }\n",
       "</style>\n",
       "<table border=\"1\" class=\"dataframe\">\n",
       "  <thead>\n",
       "    <tr style=\"text-align: right;\">\n",
       "      <th></th>\n",
       "      <th>Código Venda</th>\n",
       "      <th>Data</th>\n",
       "      <th>ID Loja</th>\n",
       "      <th>Produto</th>\n",
       "      <th>Quantidade</th>\n",
       "      <th>Valor Unitário</th>\n",
       "      <th>Valor Final</th>\n",
       "    </tr>\n",
       "  </thead>\n",
       "  <tbody>\n",
       "    <tr>\n",
       "      <th>0</th>\n",
       "      <td>1</td>\n",
       "      <td>2019-01-01</td>\n",
       "      <td>Iguatemi Esplanada</td>\n",
       "      <td>Sapato Estampa</td>\n",
       "      <td>1</td>\n",
       "      <td>358</td>\n",
       "      <td>358</td>\n",
       "    </tr>\n",
       "    <tr>\n",
       "      <th>1</th>\n",
       "      <td>1</td>\n",
       "      <td>2019-01-01</td>\n",
       "      <td>Iguatemi Esplanada</td>\n",
       "      <td>Camiseta</td>\n",
       "      <td>2</td>\n",
       "      <td>180</td>\n",
       "      <td>360</td>\n",
       "    </tr>\n",
       "    <tr>\n",
       "      <th>2</th>\n",
       "      <td>1</td>\n",
       "      <td>2019-01-01</td>\n",
       "      <td>Iguatemi Esplanada</td>\n",
       "      <td>Sapato Xadrez</td>\n",
       "      <td>1</td>\n",
       "      <td>368</td>\n",
       "      <td>368</td>\n",
       "    </tr>\n",
       "    <tr>\n",
       "      <th>3</th>\n",
       "      <td>2</td>\n",
       "      <td>2019-01-02</td>\n",
       "      <td>Norte Shopping</td>\n",
       "      <td>Relógio</td>\n",
       "      <td>3</td>\n",
       "      <td>200</td>\n",
       "      <td>600</td>\n",
       "    </tr>\n",
       "    <tr>\n",
       "      <th>4</th>\n",
       "      <td>2</td>\n",
       "      <td>2019-01-02</td>\n",
       "      <td>Norte Shopping</td>\n",
       "      <td>Chinelo Liso</td>\n",
       "      <td>1</td>\n",
       "      <td>71</td>\n",
       "      <td>71</td>\n",
       "    </tr>\n",
       "  </tbody>\n",
       "</table>\n",
       "</div>"
      ],
      "text/plain": [
       "   Código Venda       Data             ID Loja         Produto  Quantidade  \\\n",
       "0             1 2019-01-01  Iguatemi Esplanada  Sapato Estampa           1   \n",
       "1             1 2019-01-01  Iguatemi Esplanada        Camiseta           2   \n",
       "2             1 2019-01-01  Iguatemi Esplanada   Sapato Xadrez           1   \n",
       "3             2 2019-01-02      Norte Shopping         Relógio           3   \n",
       "4             2 2019-01-02      Norte Shopping    Chinelo Liso           1   \n",
       "\n",
       "   Valor Unitário  Valor Final  \n",
       "0             358          358  \n",
       "1             180          360  \n",
       "2             368          368  \n",
       "3             200          600  \n",
       "4              71           71  "
      ]
     },
     "execution_count": 2,
     "metadata": {},
     "output_type": "execute_result"
    }
   ],
   "source": [
    "df = pd.read_excel('Vendas2.xlsx')\n",
    "df.head()"
   ]
  },
  {
   "cell_type": "markdown",
   "id": "3b556a01",
   "metadata": {},
   "source": [
    "### Transformação de alguns dados"
   ]
  },
  {
   "cell_type": "code",
   "execution_count": 12,
   "id": "5ba819a2",
   "metadata": {},
   "outputs": [
    {
     "data": {
      "text/plain": [
       "Código Venda               int64\n",
       "Data              datetime64[ns]\n",
       "ID Loja                   object\n",
       "Produto                   object\n",
       "Quantidade                 int64\n",
       "Valor Unitário             int64\n",
       "Valor Final                int64\n",
       "dtype: object"
      ]
     },
     "execution_count": 12,
     "metadata": {},
     "output_type": "execute_result"
    }
   ],
   "source": [
    "df.dtypes"
   ]
  },
  {
   "cell_type": "code",
   "execution_count": 3,
   "id": "6defcf8e",
   "metadata": {},
   "outputs": [],
   "source": [
    "for coluna in df[['Código Venda', 'Quantidade', 'Valor Unitário','Valor Final']]:\n",
    "    df[coluna] = df[coluna].astype(np.int16)"
   ]
  },
  {
   "cell_type": "markdown",
   "id": "c1ae9bf0",
   "metadata": {},
   "source": [
    "### Analisando informações de faturamento"
   ]
  },
  {
   "cell_type": "code",
   "execution_count": 8,
   "id": "d23738c2",
   "metadata": {},
   "outputs": [
    {
     "data": {
      "text/html": [
       "<div>\n",
       "<style scoped>\n",
       "    .dataframe tbody tr th:only-of-type {\n",
       "        vertical-align: middle;\n",
       "    }\n",
       "\n",
       "    .dataframe tbody tr th {\n",
       "        vertical-align: top;\n",
       "    }\n",
       "\n",
       "    .dataframe thead th {\n",
       "        text-align: right;\n",
       "    }\n",
       "</style>\n",
       "<table border=\"1\" class=\"dataframe\">\n",
       "  <thead>\n",
       "    <tr style=\"text-align: right;\">\n",
       "      <th></th>\n",
       "      <th>Valor Final</th>\n",
       "    </tr>\n",
       "    <tr>\n",
       "      <th>ID Loja</th>\n",
       "      <th></th>\n",
       "    </tr>\n",
       "  </thead>\n",
       "  <tbody>\n",
       "    <tr>\n",
       "      <th>Bourbon Shopping SP</th>\n",
       "      <td>1726110.0</td>\n",
       "    </tr>\n",
       "    <tr>\n",
       "      <th>Center Shopping Uberlândia</th>\n",
       "      <td>1668921.0</td>\n",
       "    </tr>\n",
       "    <tr>\n",
       "      <th>Iguatemi Campinas</th>\n",
       "      <td>1762419.0</td>\n",
       "    </tr>\n",
       "    <tr>\n",
       "      <th>Iguatemi Esplanada</th>\n",
       "      <td>1699681.0</td>\n",
       "    </tr>\n",
       "    <tr>\n",
       "      <th>Norte Shopping</th>\n",
       "      <td>1711968.0</td>\n",
       "    </tr>\n",
       "    <tr>\n",
       "      <th>Novo Shopping Ribeirão Preto</th>\n",
       "      <td>1678225.0</td>\n",
       "    </tr>\n",
       "    <tr>\n",
       "      <th>Palladium Shopping Curitiba</th>\n",
       "      <td>1721120.0</td>\n",
       "    </tr>\n",
       "    <tr>\n",
       "      <th>Parque Dom Pedro Shopping</th>\n",
       "      <td>1631630.0</td>\n",
       "    </tr>\n",
       "    <tr>\n",
       "      <th>Passei das Águas Shopping</th>\n",
       "      <td>1649014.0</td>\n",
       "    </tr>\n",
       "    <tr>\n",
       "      <th>Ribeirão Shopping</th>\n",
       "      <td>1707122.0</td>\n",
       "    </tr>\n",
       "    <tr>\n",
       "      <th>Rio Mar Recife</th>\n",
       "      <td>1722766.0</td>\n",
       "    </tr>\n",
       "    <tr>\n",
       "      <th>Rio Mar Shopping Fortaleza</th>\n",
       "      <td>1698430.0</td>\n",
       "    </tr>\n",
       "    <tr>\n",
       "      <th>Salvador Shopping</th>\n",
       "      <td>1646739.0</td>\n",
       "    </tr>\n",
       "    <tr>\n",
       "      <th>Shopping Barra</th>\n",
       "      <td>1653103.0</td>\n",
       "    </tr>\n",
       "    <tr>\n",
       "      <th>Shopping Center Interlagos</th>\n",
       "      <td>1640486.0</td>\n",
       "    </tr>\n",
       "    <tr>\n",
       "      <th>Shopping Center Leste Aricanduva</th>\n",
       "      <td>1682870.0</td>\n",
       "    </tr>\n",
       "    <tr>\n",
       "      <th>Shopping Eldorado</th>\n",
       "      <td>1648111.0</td>\n",
       "    </tr>\n",
       "    <tr>\n",
       "      <th>Shopping Ibirapuera</th>\n",
       "      <td>1635060.0</td>\n",
       "    </tr>\n",
       "    <tr>\n",
       "      <th>Shopping Iguatemi Fortaleza</th>\n",
       "      <td>1674824.0</td>\n",
       "    </tr>\n",
       "    <tr>\n",
       "      <th>Shopping Midway Mall</th>\n",
       "      <td>1590441.0</td>\n",
       "    </tr>\n",
       "    <tr>\n",
       "      <th>Shopping Morumbi</th>\n",
       "      <td>1586444.0</td>\n",
       "    </tr>\n",
       "    <tr>\n",
       "      <th>Shopping Recife</th>\n",
       "      <td>1624879.0</td>\n",
       "    </tr>\n",
       "    <tr>\n",
       "      <th>Shopping SP Market</th>\n",
       "      <td>1721763.0</td>\n",
       "    </tr>\n",
       "    <tr>\n",
       "      <th>Shopping União de Osasco</th>\n",
       "      <td>1663770.0</td>\n",
       "    </tr>\n",
       "    <tr>\n",
       "      <th>Shopping Vila Velha</th>\n",
       "      <td>1731167.0</td>\n",
       "    </tr>\n",
       "  </tbody>\n",
       "</table>\n",
       "</div>"
      ],
      "text/plain": [
       "                                  Valor Final\n",
       "ID Loja                                      \n",
       "Bourbon Shopping SP                 1726110.0\n",
       "Center Shopping Uberlândia          1668921.0\n",
       "Iguatemi Campinas                   1762419.0\n",
       "Iguatemi Esplanada                  1699681.0\n",
       "Norte Shopping                      1711968.0\n",
       "Novo Shopping Ribeirão Preto        1678225.0\n",
       "Palladium Shopping Curitiba         1721120.0\n",
       "Parque Dom Pedro Shopping           1631630.0\n",
       "Passei das Águas Shopping           1649014.0\n",
       "Ribeirão Shopping                   1707122.0\n",
       "Rio Mar Recife                      1722766.0\n",
       "Rio Mar Shopping Fortaleza          1698430.0\n",
       "Salvador Shopping                   1646739.0\n",
       "Shopping Barra                      1653103.0\n",
       "Shopping Center Interlagos          1640486.0\n",
       "Shopping Center Leste Aricanduva    1682870.0\n",
       "Shopping Eldorado                   1648111.0\n",
       "Shopping Ibirapuera                 1635060.0\n",
       "Shopping Iguatemi Fortaleza         1674824.0\n",
       "Shopping Midway Mall                1590441.0\n",
       "Shopping Morumbi                    1586444.0\n",
       "Shopping Recife                     1624879.0\n",
       "Shopping SP Market                  1721763.0\n",
       "Shopping União de Osasco            1663770.0\n",
       "Shopping Vila Velha                 1731167.0"
      ]
     },
     "metadata": {},
     "output_type": "display_data"
    }
   ],
   "source": [
    "faturamento_loja = df[['ID Loja', 'Valor Final']].groupby('ID Loja').sum()\n",
    "display(faturamento_loja)"
   ]
  },
  {
   "cell_type": "code",
   "execution_count": 40,
   "id": "a3046ce3",
   "metadata": {},
   "outputs": [
    {
     "data": {
      "application/vnd.plotly.v1+json": {
       "config": {
        "plotlyServerURL": "https://plot.ly"
       },
       "data": [
        {
         "alignmentgroup": "True",
         "hovertemplate": "ID Loja=%{x}<br>Valor Final=%{text}<extra></extra>",
         "legendgroup": "",
         "marker": {
          "color": "rgb(8,48,107)",
          "pattern": {
           "shape": ""
          }
         },
         "name": "",
         "offsetgroup": "",
         "orientation": "v",
         "showlegend": false,
         "text": [
          1726110,
          1668921,
          1762419,
          1699681,
          1711968,
          1678225,
          1721120,
          1631630,
          1649014,
          1707122,
          1722766,
          1698430,
          1646739,
          1653103,
          1640486,
          1682870,
          1648111,
          1635060,
          1674824,
          1590441,
          1586444,
          1624879,
          1721763,
          1663770,
          1731167
         ],
         "textposition": "auto",
         "type": "bar",
         "x": [
          "Bourbon Shopping SP",
          "Center Shopping Uberlândia",
          "Iguatemi Campinas",
          "Iguatemi Esplanada",
          "Norte Shopping",
          "Novo Shopping Ribeirão Preto",
          "Palladium Shopping Curitiba",
          "Parque Dom Pedro Shopping",
          "Passei das Águas Shopping",
          "Ribeirão Shopping",
          "Rio Mar Recife",
          "Rio Mar Shopping Fortaleza",
          "Salvador Shopping",
          "Shopping Barra",
          "Shopping Center Interlagos",
          "Shopping Center Leste Aricanduva",
          "Shopping Eldorado",
          "Shopping Ibirapuera",
          "Shopping Iguatemi Fortaleza",
          "Shopping Midway Mall",
          "Shopping Morumbi",
          "Shopping Recife",
          "Shopping SP Market",
          "Shopping União de Osasco",
          "Shopping Vila Velha"
         ],
         "xaxis": "x",
         "y": [
          1726110,
          1668921,
          1762419,
          1699681,
          1711968,
          1678225,
          1721120,
          1631630,
          1649014,
          1707122,
          1722766,
          1698430,
          1646739,
          1653103,
          1640486,
          1682870,
          1648111,
          1635060,
          1674824,
          1590441,
          1586444,
          1624879,
          1721763,
          1663770,
          1731167
         ],
         "yaxis": "y"
        }
       ],
       "layout": {
        "barmode": "relative",
        "legend": {
         "tracegroupgap": 0
        },
        "template": {
         "data": {
          "bar": [
           {
            "error_x": {
             "color": "#2a3f5f"
            },
            "error_y": {
             "color": "#2a3f5f"
            },
            "marker": {
             "line": {
              "color": "#E5ECF6",
              "width": 0.5
             },
             "pattern": {
              "fillmode": "overlay",
              "size": 10,
              "solidity": 0.2
             }
            },
            "type": "bar"
           }
          ],
          "barpolar": [
           {
            "marker": {
             "line": {
              "color": "#E5ECF6",
              "width": 0.5
             },
             "pattern": {
              "fillmode": "overlay",
              "size": 10,
              "solidity": 0.2
             }
            },
            "type": "barpolar"
           }
          ],
          "carpet": [
           {
            "aaxis": {
             "endlinecolor": "#2a3f5f",
             "gridcolor": "white",
             "linecolor": "white",
             "minorgridcolor": "white",
             "startlinecolor": "#2a3f5f"
            },
            "baxis": {
             "endlinecolor": "#2a3f5f",
             "gridcolor": "white",
             "linecolor": "white",
             "minorgridcolor": "white",
             "startlinecolor": "#2a3f5f"
            },
            "type": "carpet"
           }
          ],
          "choropleth": [
           {
            "colorbar": {
             "outlinewidth": 0,
             "ticks": ""
            },
            "type": "choropleth"
           }
          ],
          "contour": [
           {
            "colorbar": {
             "outlinewidth": 0,
             "ticks": ""
            },
            "colorscale": [
             [
              0,
              "#0d0887"
             ],
             [
              0.1111111111111111,
              "#46039f"
             ],
             [
              0.2222222222222222,
              "#7201a8"
             ],
             [
              0.3333333333333333,
              "#9c179e"
             ],
             [
              0.4444444444444444,
              "#bd3786"
             ],
             [
              0.5555555555555556,
              "#d8576b"
             ],
             [
              0.6666666666666666,
              "#ed7953"
             ],
             [
              0.7777777777777778,
              "#fb9f3a"
             ],
             [
              0.8888888888888888,
              "#fdca26"
             ],
             [
              1,
              "#f0f921"
             ]
            ],
            "type": "contour"
           }
          ],
          "contourcarpet": [
           {
            "colorbar": {
             "outlinewidth": 0,
             "ticks": ""
            },
            "type": "contourcarpet"
           }
          ],
          "heatmap": [
           {
            "colorbar": {
             "outlinewidth": 0,
             "ticks": ""
            },
            "colorscale": [
             [
              0,
              "#0d0887"
             ],
             [
              0.1111111111111111,
              "#46039f"
             ],
             [
              0.2222222222222222,
              "#7201a8"
             ],
             [
              0.3333333333333333,
              "#9c179e"
             ],
             [
              0.4444444444444444,
              "#bd3786"
             ],
             [
              0.5555555555555556,
              "#d8576b"
             ],
             [
              0.6666666666666666,
              "#ed7953"
             ],
             [
              0.7777777777777778,
              "#fb9f3a"
             ],
             [
              0.8888888888888888,
              "#fdca26"
             ],
             [
              1,
              "#f0f921"
             ]
            ],
            "type": "heatmap"
           }
          ],
          "heatmapgl": [
           {
            "colorbar": {
             "outlinewidth": 0,
             "ticks": ""
            },
            "colorscale": [
             [
              0,
              "#0d0887"
             ],
             [
              0.1111111111111111,
              "#46039f"
             ],
             [
              0.2222222222222222,
              "#7201a8"
             ],
             [
              0.3333333333333333,
              "#9c179e"
             ],
             [
              0.4444444444444444,
              "#bd3786"
             ],
             [
              0.5555555555555556,
              "#d8576b"
             ],
             [
              0.6666666666666666,
              "#ed7953"
             ],
             [
              0.7777777777777778,
              "#fb9f3a"
             ],
             [
              0.8888888888888888,
              "#fdca26"
             ],
             [
              1,
              "#f0f921"
             ]
            ],
            "type": "heatmapgl"
           }
          ],
          "histogram": [
           {
            "marker": {
             "pattern": {
              "fillmode": "overlay",
              "size": 10,
              "solidity": 0.2
             }
            },
            "type": "histogram"
           }
          ],
          "histogram2d": [
           {
            "colorbar": {
             "outlinewidth": 0,
             "ticks": ""
            },
            "colorscale": [
             [
              0,
              "#0d0887"
             ],
             [
              0.1111111111111111,
              "#46039f"
             ],
             [
              0.2222222222222222,
              "#7201a8"
             ],
             [
              0.3333333333333333,
              "#9c179e"
             ],
             [
              0.4444444444444444,
              "#bd3786"
             ],
             [
              0.5555555555555556,
              "#d8576b"
             ],
             [
              0.6666666666666666,
              "#ed7953"
             ],
             [
              0.7777777777777778,
              "#fb9f3a"
             ],
             [
              0.8888888888888888,
              "#fdca26"
             ],
             [
              1,
              "#f0f921"
             ]
            ],
            "type": "histogram2d"
           }
          ],
          "histogram2dcontour": [
           {
            "colorbar": {
             "outlinewidth": 0,
             "ticks": ""
            },
            "colorscale": [
             [
              0,
              "#0d0887"
             ],
             [
              0.1111111111111111,
              "#46039f"
             ],
             [
              0.2222222222222222,
              "#7201a8"
             ],
             [
              0.3333333333333333,
              "#9c179e"
             ],
             [
              0.4444444444444444,
              "#bd3786"
             ],
             [
              0.5555555555555556,
              "#d8576b"
             ],
             [
              0.6666666666666666,
              "#ed7953"
             ],
             [
              0.7777777777777778,
              "#fb9f3a"
             ],
             [
              0.8888888888888888,
              "#fdca26"
             ],
             [
              1,
              "#f0f921"
             ]
            ],
            "type": "histogram2dcontour"
           }
          ],
          "mesh3d": [
           {
            "colorbar": {
             "outlinewidth": 0,
             "ticks": ""
            },
            "type": "mesh3d"
           }
          ],
          "parcoords": [
           {
            "line": {
             "colorbar": {
              "outlinewidth": 0,
              "ticks": ""
             }
            },
            "type": "parcoords"
           }
          ],
          "pie": [
           {
            "automargin": true,
            "type": "pie"
           }
          ],
          "scatter": [
           {
            "marker": {
             "colorbar": {
              "outlinewidth": 0,
              "ticks": ""
             }
            },
            "type": "scatter"
           }
          ],
          "scatter3d": [
           {
            "line": {
             "colorbar": {
              "outlinewidth": 0,
              "ticks": ""
             }
            },
            "marker": {
             "colorbar": {
              "outlinewidth": 0,
              "ticks": ""
             }
            },
            "type": "scatter3d"
           }
          ],
          "scattercarpet": [
           {
            "marker": {
             "colorbar": {
              "outlinewidth": 0,
              "ticks": ""
             }
            },
            "type": "scattercarpet"
           }
          ],
          "scattergeo": [
           {
            "marker": {
             "colorbar": {
              "outlinewidth": 0,
              "ticks": ""
             }
            },
            "type": "scattergeo"
           }
          ],
          "scattergl": [
           {
            "marker": {
             "colorbar": {
              "outlinewidth": 0,
              "ticks": ""
             }
            },
            "type": "scattergl"
           }
          ],
          "scattermapbox": [
           {
            "marker": {
             "colorbar": {
              "outlinewidth": 0,
              "ticks": ""
             }
            },
            "type": "scattermapbox"
           }
          ],
          "scatterpolar": [
           {
            "marker": {
             "colorbar": {
              "outlinewidth": 0,
              "ticks": ""
             }
            },
            "type": "scatterpolar"
           }
          ],
          "scatterpolargl": [
           {
            "marker": {
             "colorbar": {
              "outlinewidth": 0,
              "ticks": ""
             }
            },
            "type": "scatterpolargl"
           }
          ],
          "scatterternary": [
           {
            "marker": {
             "colorbar": {
              "outlinewidth": 0,
              "ticks": ""
             }
            },
            "type": "scatterternary"
           }
          ],
          "surface": [
           {
            "colorbar": {
             "outlinewidth": 0,
             "ticks": ""
            },
            "colorscale": [
             [
              0,
              "#0d0887"
             ],
             [
              0.1111111111111111,
              "#46039f"
             ],
             [
              0.2222222222222222,
              "#7201a8"
             ],
             [
              0.3333333333333333,
              "#9c179e"
             ],
             [
              0.4444444444444444,
              "#bd3786"
             ],
             [
              0.5555555555555556,
              "#d8576b"
             ],
             [
              0.6666666666666666,
              "#ed7953"
             ],
             [
              0.7777777777777778,
              "#fb9f3a"
             ],
             [
              0.8888888888888888,
              "#fdca26"
             ],
             [
              1,
              "#f0f921"
             ]
            ],
            "type": "surface"
           }
          ],
          "table": [
           {
            "cells": {
             "fill": {
              "color": "#EBF0F8"
             },
             "line": {
              "color": "white"
             }
            },
            "header": {
             "fill": {
              "color": "#C8D4E3"
             },
             "line": {
              "color": "white"
             }
            },
            "type": "table"
           }
          ]
         },
         "layout": {
          "annotationdefaults": {
           "arrowcolor": "#2a3f5f",
           "arrowhead": 0,
           "arrowwidth": 1
          },
          "autotypenumbers": "strict",
          "coloraxis": {
           "colorbar": {
            "outlinewidth": 0,
            "ticks": ""
           }
          },
          "colorscale": {
           "diverging": [
            [
             0,
             "#8e0152"
            ],
            [
             0.1,
             "#c51b7d"
            ],
            [
             0.2,
             "#de77ae"
            ],
            [
             0.3,
             "#f1b6da"
            ],
            [
             0.4,
             "#fde0ef"
            ],
            [
             0.5,
             "#f7f7f7"
            ],
            [
             0.6,
             "#e6f5d0"
            ],
            [
             0.7,
             "#b8e186"
            ],
            [
             0.8,
             "#7fbc41"
            ],
            [
             0.9,
             "#4d9221"
            ],
            [
             1,
             "#276419"
            ]
           ],
           "sequential": [
            [
             0,
             "#0d0887"
            ],
            [
             0.1111111111111111,
             "#46039f"
            ],
            [
             0.2222222222222222,
             "#7201a8"
            ],
            [
             0.3333333333333333,
             "#9c179e"
            ],
            [
             0.4444444444444444,
             "#bd3786"
            ],
            [
             0.5555555555555556,
             "#d8576b"
            ],
            [
             0.6666666666666666,
             "#ed7953"
            ],
            [
             0.7777777777777778,
             "#fb9f3a"
            ],
            [
             0.8888888888888888,
             "#fdca26"
            ],
            [
             1,
             "#f0f921"
            ]
           ],
           "sequentialminus": [
            [
             0,
             "#0d0887"
            ],
            [
             0.1111111111111111,
             "#46039f"
            ],
            [
             0.2222222222222222,
             "#7201a8"
            ],
            [
             0.3333333333333333,
             "#9c179e"
            ],
            [
             0.4444444444444444,
             "#bd3786"
            ],
            [
             0.5555555555555556,
             "#d8576b"
            ],
            [
             0.6666666666666666,
             "#ed7953"
            ],
            [
             0.7777777777777778,
             "#fb9f3a"
            ],
            [
             0.8888888888888888,
             "#fdca26"
            ],
            [
             1,
             "#f0f921"
            ]
           ]
          },
          "colorway": [
           "#636efa",
           "#EF553B",
           "#00cc96",
           "#ab63fa",
           "#FFA15A",
           "#19d3f3",
           "#FF6692",
           "#B6E880",
           "#FF97FF",
           "#FECB52"
          ],
          "font": {
           "color": "#2a3f5f"
          },
          "geo": {
           "bgcolor": "white",
           "lakecolor": "white",
           "landcolor": "#E5ECF6",
           "showlakes": true,
           "showland": true,
           "subunitcolor": "white"
          },
          "hoverlabel": {
           "align": "left"
          },
          "hovermode": "closest",
          "mapbox": {
           "style": "light"
          },
          "paper_bgcolor": "white",
          "plot_bgcolor": "#E5ECF6",
          "polar": {
           "angularaxis": {
            "gridcolor": "white",
            "linecolor": "white",
            "ticks": ""
           },
           "bgcolor": "#E5ECF6",
           "radialaxis": {
            "gridcolor": "white",
            "linecolor": "white",
            "ticks": ""
           }
          },
          "scene": {
           "xaxis": {
            "backgroundcolor": "#E5ECF6",
            "gridcolor": "white",
            "gridwidth": 2,
            "linecolor": "white",
            "showbackground": true,
            "ticks": "",
            "zerolinecolor": "white"
           },
           "yaxis": {
            "backgroundcolor": "#E5ECF6",
            "gridcolor": "white",
            "gridwidth": 2,
            "linecolor": "white",
            "showbackground": true,
            "ticks": "",
            "zerolinecolor": "white"
           },
           "zaxis": {
            "backgroundcolor": "#E5ECF6",
            "gridcolor": "white",
            "gridwidth": 2,
            "linecolor": "white",
            "showbackground": true,
            "ticks": "",
            "zerolinecolor": "white"
           }
          },
          "shapedefaults": {
           "line": {
            "color": "#2a3f5f"
           }
          },
          "ternary": {
           "aaxis": {
            "gridcolor": "white",
            "linecolor": "white",
            "ticks": ""
           },
           "baxis": {
            "gridcolor": "white",
            "linecolor": "white",
            "ticks": ""
           },
           "bgcolor": "#E5ECF6",
           "caxis": {
            "gridcolor": "white",
            "linecolor": "white",
            "ticks": ""
           }
          },
          "title": {
           "x": 0.05
          },
          "xaxis": {
           "automargin": true,
           "gridcolor": "white",
           "linecolor": "white",
           "ticks": "",
           "title": {
            "standoff": 15
           },
           "zerolinecolor": "white",
           "zerolinewidth": 2
          },
          "yaxis": {
           "automargin": true,
           "gridcolor": "white",
           "linecolor": "white",
           "ticks": "",
           "title": {
            "standoff": 15
           },
           "zerolinecolor": "white",
           "zerolinewidth": 2
          }
         }
        },
        "title": {
         "text": "Total de vendas por loja"
        },
        "xaxis": {
         "anchor": "y",
         "domain": [
          0,
          1
         ],
         "title": {
          "text": "ID Loja"
         }
        },
        "yaxis": {
         "anchor": "x",
         "domain": [
          0,
          1
         ],
         "title": {
          "text": "Valor Final"
         }
        }
       }
      },
      "text/html": [
       "<div>                            <div id=\"86296c84-fe55-4d3c-b9f2-32f9c34c0ce7\" class=\"plotly-graph-div\" style=\"height:525px; width:100%;\"></div>            <script type=\"text/javascript\">                require([\"plotly\"], function(Plotly) {                    window.PLOTLYENV=window.PLOTLYENV || {};                                    if (document.getElementById(\"86296c84-fe55-4d3c-b9f2-32f9c34c0ce7\")) {                    Plotly.newPlot(                        \"86296c84-fe55-4d3c-b9f2-32f9c34c0ce7\",                        [{\"alignmentgroup\":\"True\",\"hovertemplate\":\"ID Loja=%{x}<br>Valor Final=%{text}<extra></extra>\",\"legendgroup\":\"\",\"marker\":{\"color\":\"rgb(8,48,107)\",\"pattern\":{\"shape\":\"\"}},\"name\":\"\",\"offsetgroup\":\"\",\"orientation\":\"v\",\"showlegend\":false,\"text\":[1726110.0,1668921.0,1762419.0,1699681.0,1711968.0,1678225.0,1721120.0,1631630.0,1649014.0,1707122.0,1722766.0,1698430.0,1646739.0,1653103.0,1640486.0,1682870.0,1648111.0,1635060.0,1674824.0,1590441.0,1586444.0,1624879.0,1721763.0,1663770.0,1731167.0],\"textposition\":\"auto\",\"type\":\"bar\",\"x\":[\"Bourbon Shopping SP\",\"Center Shopping Uberl\\u00e2ndia\",\"Iguatemi Campinas\",\"Iguatemi Esplanada\",\"Norte Shopping\",\"Novo Shopping Ribeir\\u00e3o Preto\",\"Palladium Shopping Curitiba\",\"Parque Dom Pedro Shopping\",\"Passei das \\u00c1guas Shopping\",\"Ribeir\\u00e3o Shopping\",\"Rio Mar Recife\",\"Rio Mar Shopping Fortaleza\",\"Salvador Shopping\",\"Shopping Barra\",\"Shopping Center Interlagos\",\"Shopping Center Leste Aricanduva\",\"Shopping Eldorado\",\"Shopping Ibirapuera\",\"Shopping Iguatemi Fortaleza\",\"Shopping Midway Mall\",\"Shopping Morumbi\",\"Shopping Recife\",\"Shopping SP Market\",\"Shopping Uni\\u00e3o de Osasco\",\"Shopping Vila Velha\"],\"xaxis\":\"x\",\"y\":[1726110.0,1668921.0,1762419.0,1699681.0,1711968.0,1678225.0,1721120.0,1631630.0,1649014.0,1707122.0,1722766.0,1698430.0,1646739.0,1653103.0,1640486.0,1682870.0,1648111.0,1635060.0,1674824.0,1590441.0,1586444.0,1624879.0,1721763.0,1663770.0,1731167.0],\"yaxis\":\"y\"}],                        {\"barmode\":\"relative\",\"legend\":{\"tracegroupgap\":0},\"template\":{\"data\":{\"bar\":[{\"error_x\":{\"color\":\"#2a3f5f\"},\"error_y\":{\"color\":\"#2a3f5f\"},\"marker\":{\"line\":{\"color\":\"#E5ECF6\",\"width\":0.5},\"pattern\":{\"fillmode\":\"overlay\",\"size\":10,\"solidity\":0.2}},\"type\":\"bar\"}],\"barpolar\":[{\"marker\":{\"line\":{\"color\":\"#E5ECF6\",\"width\":0.5},\"pattern\":{\"fillmode\":\"overlay\",\"size\":10,\"solidity\":0.2}},\"type\":\"barpolar\"}],\"carpet\":[{\"aaxis\":{\"endlinecolor\":\"#2a3f5f\",\"gridcolor\":\"white\",\"linecolor\":\"white\",\"minorgridcolor\":\"white\",\"startlinecolor\":\"#2a3f5f\"},\"baxis\":{\"endlinecolor\":\"#2a3f5f\",\"gridcolor\":\"white\",\"linecolor\":\"white\",\"minorgridcolor\":\"white\",\"startlinecolor\":\"#2a3f5f\"},\"type\":\"carpet\"}],\"choropleth\":[{\"colorbar\":{\"outlinewidth\":0,\"ticks\":\"\"},\"type\":\"choropleth\"}],\"contour\":[{\"colorbar\":{\"outlinewidth\":0,\"ticks\":\"\"},\"colorscale\":[[0.0,\"#0d0887\"],[0.1111111111111111,\"#46039f\"],[0.2222222222222222,\"#7201a8\"],[0.3333333333333333,\"#9c179e\"],[0.4444444444444444,\"#bd3786\"],[0.5555555555555556,\"#d8576b\"],[0.6666666666666666,\"#ed7953\"],[0.7777777777777778,\"#fb9f3a\"],[0.8888888888888888,\"#fdca26\"],[1.0,\"#f0f921\"]],\"type\":\"contour\"}],\"contourcarpet\":[{\"colorbar\":{\"outlinewidth\":0,\"ticks\":\"\"},\"type\":\"contourcarpet\"}],\"heatmap\":[{\"colorbar\":{\"outlinewidth\":0,\"ticks\":\"\"},\"colorscale\":[[0.0,\"#0d0887\"],[0.1111111111111111,\"#46039f\"],[0.2222222222222222,\"#7201a8\"],[0.3333333333333333,\"#9c179e\"],[0.4444444444444444,\"#bd3786\"],[0.5555555555555556,\"#d8576b\"],[0.6666666666666666,\"#ed7953\"],[0.7777777777777778,\"#fb9f3a\"],[0.8888888888888888,\"#fdca26\"],[1.0,\"#f0f921\"]],\"type\":\"heatmap\"}],\"heatmapgl\":[{\"colorbar\":{\"outlinewidth\":0,\"ticks\":\"\"},\"colorscale\":[[0.0,\"#0d0887\"],[0.1111111111111111,\"#46039f\"],[0.2222222222222222,\"#7201a8\"],[0.3333333333333333,\"#9c179e\"],[0.4444444444444444,\"#bd3786\"],[0.5555555555555556,\"#d8576b\"],[0.6666666666666666,\"#ed7953\"],[0.7777777777777778,\"#fb9f3a\"],[0.8888888888888888,\"#fdca26\"],[1.0,\"#f0f921\"]],\"type\":\"heatmapgl\"}],\"histogram\":[{\"marker\":{\"pattern\":{\"fillmode\":\"overlay\",\"size\":10,\"solidity\":0.2}},\"type\":\"histogram\"}],\"histogram2d\":[{\"colorbar\":{\"outlinewidth\":0,\"ticks\":\"\"},\"colorscale\":[[0.0,\"#0d0887\"],[0.1111111111111111,\"#46039f\"],[0.2222222222222222,\"#7201a8\"],[0.3333333333333333,\"#9c179e\"],[0.4444444444444444,\"#bd3786\"],[0.5555555555555556,\"#d8576b\"],[0.6666666666666666,\"#ed7953\"],[0.7777777777777778,\"#fb9f3a\"],[0.8888888888888888,\"#fdca26\"],[1.0,\"#f0f921\"]],\"type\":\"histogram2d\"}],\"histogram2dcontour\":[{\"colorbar\":{\"outlinewidth\":0,\"ticks\":\"\"},\"colorscale\":[[0.0,\"#0d0887\"],[0.1111111111111111,\"#46039f\"],[0.2222222222222222,\"#7201a8\"],[0.3333333333333333,\"#9c179e\"],[0.4444444444444444,\"#bd3786\"],[0.5555555555555556,\"#d8576b\"],[0.6666666666666666,\"#ed7953\"],[0.7777777777777778,\"#fb9f3a\"],[0.8888888888888888,\"#fdca26\"],[1.0,\"#f0f921\"]],\"type\":\"histogram2dcontour\"}],\"mesh3d\":[{\"colorbar\":{\"outlinewidth\":0,\"ticks\":\"\"},\"type\":\"mesh3d\"}],\"parcoords\":[{\"line\":{\"colorbar\":{\"outlinewidth\":0,\"ticks\":\"\"}},\"type\":\"parcoords\"}],\"pie\":[{\"automargin\":true,\"type\":\"pie\"}],\"scatter\":[{\"marker\":{\"colorbar\":{\"outlinewidth\":0,\"ticks\":\"\"}},\"type\":\"scatter\"}],\"scatter3d\":[{\"line\":{\"colorbar\":{\"outlinewidth\":0,\"ticks\":\"\"}},\"marker\":{\"colorbar\":{\"outlinewidth\":0,\"ticks\":\"\"}},\"type\":\"scatter3d\"}],\"scattercarpet\":[{\"marker\":{\"colorbar\":{\"outlinewidth\":0,\"ticks\":\"\"}},\"type\":\"scattercarpet\"}],\"scattergeo\":[{\"marker\":{\"colorbar\":{\"outlinewidth\":0,\"ticks\":\"\"}},\"type\":\"scattergeo\"}],\"scattergl\":[{\"marker\":{\"colorbar\":{\"outlinewidth\":0,\"ticks\":\"\"}},\"type\":\"scattergl\"}],\"scattermapbox\":[{\"marker\":{\"colorbar\":{\"outlinewidth\":0,\"ticks\":\"\"}},\"type\":\"scattermapbox\"}],\"scatterpolar\":[{\"marker\":{\"colorbar\":{\"outlinewidth\":0,\"ticks\":\"\"}},\"type\":\"scatterpolar\"}],\"scatterpolargl\":[{\"marker\":{\"colorbar\":{\"outlinewidth\":0,\"ticks\":\"\"}},\"type\":\"scatterpolargl\"}],\"scatterternary\":[{\"marker\":{\"colorbar\":{\"outlinewidth\":0,\"ticks\":\"\"}},\"type\":\"scatterternary\"}],\"surface\":[{\"colorbar\":{\"outlinewidth\":0,\"ticks\":\"\"},\"colorscale\":[[0.0,\"#0d0887\"],[0.1111111111111111,\"#46039f\"],[0.2222222222222222,\"#7201a8\"],[0.3333333333333333,\"#9c179e\"],[0.4444444444444444,\"#bd3786\"],[0.5555555555555556,\"#d8576b\"],[0.6666666666666666,\"#ed7953\"],[0.7777777777777778,\"#fb9f3a\"],[0.8888888888888888,\"#fdca26\"],[1.0,\"#f0f921\"]],\"type\":\"surface\"}],\"table\":[{\"cells\":{\"fill\":{\"color\":\"#EBF0F8\"},\"line\":{\"color\":\"white\"}},\"header\":{\"fill\":{\"color\":\"#C8D4E3\"},\"line\":{\"color\":\"white\"}},\"type\":\"table\"}]},\"layout\":{\"annotationdefaults\":{\"arrowcolor\":\"#2a3f5f\",\"arrowhead\":0,\"arrowwidth\":1},\"autotypenumbers\":\"strict\",\"coloraxis\":{\"colorbar\":{\"outlinewidth\":0,\"ticks\":\"\"}},\"colorscale\":{\"diverging\":[[0,\"#8e0152\"],[0.1,\"#c51b7d\"],[0.2,\"#de77ae\"],[0.3,\"#f1b6da\"],[0.4,\"#fde0ef\"],[0.5,\"#f7f7f7\"],[0.6,\"#e6f5d0\"],[0.7,\"#b8e186\"],[0.8,\"#7fbc41\"],[0.9,\"#4d9221\"],[1,\"#276419\"]],\"sequential\":[[0.0,\"#0d0887\"],[0.1111111111111111,\"#46039f\"],[0.2222222222222222,\"#7201a8\"],[0.3333333333333333,\"#9c179e\"],[0.4444444444444444,\"#bd3786\"],[0.5555555555555556,\"#d8576b\"],[0.6666666666666666,\"#ed7953\"],[0.7777777777777778,\"#fb9f3a\"],[0.8888888888888888,\"#fdca26\"],[1.0,\"#f0f921\"]],\"sequentialminus\":[[0.0,\"#0d0887\"],[0.1111111111111111,\"#46039f\"],[0.2222222222222222,\"#7201a8\"],[0.3333333333333333,\"#9c179e\"],[0.4444444444444444,\"#bd3786\"],[0.5555555555555556,\"#d8576b\"],[0.6666666666666666,\"#ed7953\"],[0.7777777777777778,\"#fb9f3a\"],[0.8888888888888888,\"#fdca26\"],[1.0,\"#f0f921\"]]},\"colorway\":[\"#636efa\",\"#EF553B\",\"#00cc96\",\"#ab63fa\",\"#FFA15A\",\"#19d3f3\",\"#FF6692\",\"#B6E880\",\"#FF97FF\",\"#FECB52\"],\"font\":{\"color\":\"#2a3f5f\"},\"geo\":{\"bgcolor\":\"white\",\"lakecolor\":\"white\",\"landcolor\":\"#E5ECF6\",\"showlakes\":true,\"showland\":true,\"subunitcolor\":\"white\"},\"hoverlabel\":{\"align\":\"left\"},\"hovermode\":\"closest\",\"mapbox\":{\"style\":\"light\"},\"paper_bgcolor\":\"white\",\"plot_bgcolor\":\"#E5ECF6\",\"polar\":{\"angularaxis\":{\"gridcolor\":\"white\",\"linecolor\":\"white\",\"ticks\":\"\"},\"bgcolor\":\"#E5ECF6\",\"radialaxis\":{\"gridcolor\":\"white\",\"linecolor\":\"white\",\"ticks\":\"\"}},\"scene\":{\"xaxis\":{\"backgroundcolor\":\"#E5ECF6\",\"gridcolor\":\"white\",\"gridwidth\":2,\"linecolor\":\"white\",\"showbackground\":true,\"ticks\":\"\",\"zerolinecolor\":\"white\"},\"yaxis\":{\"backgroundcolor\":\"#E5ECF6\",\"gridcolor\":\"white\",\"gridwidth\":2,\"linecolor\":\"white\",\"showbackground\":true,\"ticks\":\"\",\"zerolinecolor\":\"white\"},\"zaxis\":{\"backgroundcolor\":\"#E5ECF6\",\"gridcolor\":\"white\",\"gridwidth\":2,\"linecolor\":\"white\",\"showbackground\":true,\"ticks\":\"\",\"zerolinecolor\":\"white\"}},\"shapedefaults\":{\"line\":{\"color\":\"#2a3f5f\"}},\"ternary\":{\"aaxis\":{\"gridcolor\":\"white\",\"linecolor\":\"white\",\"ticks\":\"\"},\"baxis\":{\"gridcolor\":\"white\",\"linecolor\":\"white\",\"ticks\":\"\"},\"bgcolor\":\"#E5ECF6\",\"caxis\":{\"gridcolor\":\"white\",\"linecolor\":\"white\",\"ticks\":\"\"}},\"title\":{\"x\":0.05},\"xaxis\":{\"automargin\":true,\"gridcolor\":\"white\",\"linecolor\":\"white\",\"ticks\":\"\",\"title\":{\"standoff\":15},\"zerolinecolor\":\"white\",\"zerolinewidth\":2},\"yaxis\":{\"automargin\":true,\"gridcolor\":\"white\",\"linecolor\":\"white\",\"ticks\":\"\",\"title\":{\"standoff\":15},\"zerolinecolor\":\"white\",\"zerolinewidth\":2}}},\"title\":{\"text\":\"Total de vendas por loja\"},\"xaxis\":{\"anchor\":\"y\",\"domain\":[0.0,1.0],\"title\":{\"text\":\"ID Loja\"}},\"yaxis\":{\"anchor\":\"x\",\"domain\":[0.0,1.0],\"title\":{\"text\":\"Valor Final\"}}},                        {\"responsive\": true}                    ).then(function(){\n",
       "                            \n",
       "var gd = document.getElementById('86296c84-fe55-4d3c-b9f2-32f9c34c0ce7');\n",
       "var x = new MutationObserver(function (mutations, observer) {{\n",
       "        var display = window.getComputedStyle(gd).display;\n",
       "        if (!display || display === 'none') {{\n",
       "            console.log([gd, 'removed!']);\n",
       "            Plotly.purge(gd);\n",
       "            observer.disconnect();\n",
       "        }}\n",
       "}});\n",
       "\n",
       "// Listen for the removal of the full notebook cells\n",
       "var notebookContainer = gd.closest('#notebook-container');\n",
       "if (notebookContainer) {{\n",
       "    x.observe(notebookContainer, {childList: true});\n",
       "}}\n",
       "\n",
       "// Listen for the clearing of the current output cell\n",
       "var outputEl = gd.closest('.output');\n",
       "if (outputEl) {{\n",
       "    x.observe(outputEl, {childList: true});\n",
       "}}\n",
       "\n",
       "                        })                };                });            </script>        </div>"
      ]
     },
     "metadata": {},
     "output_type": "display_data"
    }
   ],
   "source": [
    "faturamento_total_loja = df[['ID Loja', 'Valor Final']].groupby('ID Loja').sum().reset_index()\n",
    "fig = px.bar(faturamento_total_loja, x='ID Loja', y='Valor Final', title='Total de vendas por loja', text='Valor Final',color_discrete_sequence=px.colors.sequential.Blues_r)\n",
    "fig.show()"
   ]
  },
  {
   "cell_type": "code",
   "execution_count": 20,
   "id": "3326d834",
   "metadata": {},
   "outputs": [
    {
     "data": {
      "text/html": [
       "<div>\n",
       "<style scoped>\n",
       "    .dataframe tbody tr th:only-of-type {\n",
       "        vertical-align: middle;\n",
       "    }\n",
       "\n",
       "    .dataframe tbody tr th {\n",
       "        vertical-align: top;\n",
       "    }\n",
       "\n",
       "    .dataframe thead th {\n",
       "        text-align: right;\n",
       "    }\n",
       "</style>\n",
       "<table border=\"1\" class=\"dataframe\">\n",
       "  <thead>\n",
       "    <tr style=\"text-align: right;\">\n",
       "      <th></th>\n",
       "      <th>Quantidade</th>\n",
       "    </tr>\n",
       "    <tr>\n",
       "      <th>ID Loja</th>\n",
       "      <th></th>\n",
       "    </tr>\n",
       "  </thead>\n",
       "  <tbody>\n",
       "    <tr>\n",
       "      <th>Bourbon Shopping SP</th>\n",
       "      <td>8863</td>\n",
       "    </tr>\n",
       "    <tr>\n",
       "      <th>Center Shopping Uberlândia</th>\n",
       "      <td>8627</td>\n",
       "    </tr>\n",
       "    <tr>\n",
       "      <th>Iguatemi Campinas</th>\n",
       "      <td>8935</td>\n",
       "    </tr>\n",
       "    <tr>\n",
       "      <th>Iguatemi Esplanada</th>\n",
       "      <td>8580</td>\n",
       "    </tr>\n",
       "    <tr>\n",
       "      <th>Norte Shopping</th>\n",
       "      <td>9014</td>\n",
       "    </tr>\n",
       "    <tr>\n",
       "      <th>Novo Shopping Ribeirão Preto</th>\n",
       "      <td>8751</td>\n",
       "    </tr>\n",
       "    <tr>\n",
       "      <th>Palladium Shopping Curitiba</th>\n",
       "      <td>9091</td>\n",
       "    </tr>\n",
       "    <tr>\n",
       "      <th>Parque Dom Pedro Shopping</th>\n",
       "      <td>8388</td>\n",
       "    </tr>\n",
       "    <tr>\n",
       "      <th>Passei das Águas Shopping</th>\n",
       "      <td>8618</td>\n",
       "    </tr>\n",
       "    <tr>\n",
       "      <th>Ribeirão Shopping</th>\n",
       "      <td>8825</td>\n",
       "    </tr>\n",
       "    <tr>\n",
       "      <th>Rio Mar Recife</th>\n",
       "      <td>8863</td>\n",
       "    </tr>\n",
       "    <tr>\n",
       "      <th>Rio Mar Shopping Fortaleza</th>\n",
       "      <td>8937</td>\n",
       "    </tr>\n",
       "    <tr>\n",
       "      <th>Salvador Shopping</th>\n",
       "      <td>8698</td>\n",
       "    </tr>\n",
       "    <tr>\n",
       "      <th>Shopping Barra</th>\n",
       "      <td>8638</td>\n",
       "    </tr>\n",
       "    <tr>\n",
       "      <th>Shopping Center Interlagos</th>\n",
       "      <td>8675</td>\n",
       "    </tr>\n",
       "    <tr>\n",
       "      <th>Shopping Center Leste Aricanduva</th>\n",
       "      <td>8938</td>\n",
       "    </tr>\n",
       "    <tr>\n",
       "      <th>Shopping Eldorado</th>\n",
       "      <td>8719</td>\n",
       "    </tr>\n",
       "    <tr>\n",
       "      <th>Shopping Ibirapuera</th>\n",
       "      <td>8723</td>\n",
       "    </tr>\n",
       "    <tr>\n",
       "      <th>Shopping Iguatemi Fortaleza</th>\n",
       "      <td>8629</td>\n",
       "    </tr>\n",
       "    <tr>\n",
       "      <th>Shopping Midway Mall</th>\n",
       "      <td>8206</td>\n",
       "    </tr>\n",
       "    <tr>\n",
       "      <th>Shopping Morumbi</th>\n",
       "      <td>8508</td>\n",
       "    </tr>\n",
       "    <tr>\n",
       "      <th>Shopping Recife</th>\n",
       "      <td>8581</td>\n",
       "    </tr>\n",
       "    <tr>\n",
       "      <th>Shopping SP Market</th>\n",
       "      <td>8927</td>\n",
       "    </tr>\n",
       "    <tr>\n",
       "      <th>Shopping União de Osasco</th>\n",
       "      <td>8730</td>\n",
       "    </tr>\n",
       "    <tr>\n",
       "      <th>Shopping Vila Velha</th>\n",
       "      <td>9224</td>\n",
       "    </tr>\n",
       "  </tbody>\n",
       "</table>\n",
       "</div>"
      ],
      "text/plain": [
       "                                  Quantidade\n",
       "ID Loja                                     \n",
       "Bourbon Shopping SP                     8863\n",
       "Center Shopping Uberlândia              8627\n",
       "Iguatemi Campinas                       8935\n",
       "Iguatemi Esplanada                      8580\n",
       "Norte Shopping                          9014\n",
       "Novo Shopping Ribeirão Preto            8751\n",
       "Palladium Shopping Curitiba             9091\n",
       "Parque Dom Pedro Shopping               8388\n",
       "Passei das Águas Shopping               8618\n",
       "Ribeirão Shopping                       8825\n",
       "Rio Mar Recife                          8863\n",
       "Rio Mar Shopping Fortaleza              8937\n",
       "Salvador Shopping                       8698\n",
       "Shopping Barra                          8638\n",
       "Shopping Center Interlagos              8675\n",
       "Shopping Center Leste Aricanduva        8938\n",
       "Shopping Eldorado                       8719\n",
       "Shopping Ibirapuera                     8723\n",
       "Shopping Iguatemi Fortaleza             8629\n",
       "Shopping Midway Mall                    8206\n",
       "Shopping Morumbi                        8508\n",
       "Shopping Recife                         8581\n",
       "Shopping SP Market                      8927\n",
       "Shopping União de Osasco                8730\n",
       "Shopping Vila Velha                     9224"
      ]
     },
     "metadata": {},
     "output_type": "display_data"
    }
   ],
   "source": [
    "vendas_loja = df[['ID Loja', 'Quantidade']].groupby('ID Loja').sum()\n",
    "display(vendas_loja)"
   ]
  },
  {
   "cell_type": "code",
   "execution_count": 27,
   "id": "07376ccd",
   "metadata": {},
   "outputs": [],
   "source": [
    "ticket_medio = (faturamento_loja['Valor Final'] / vendas_loja['Quantidade']).to_frame()"
   ]
  },
  {
   "cell_type": "code",
   "execution_count": 28,
   "id": "e034603f",
   "metadata": {},
   "outputs": [
    {
     "data": {
      "text/html": [
       "<div>\n",
       "<style scoped>\n",
       "    .dataframe tbody tr th:only-of-type {\n",
       "        vertical-align: middle;\n",
       "    }\n",
       "\n",
       "    .dataframe tbody tr th {\n",
       "        vertical-align: top;\n",
       "    }\n",
       "\n",
       "    .dataframe thead th {\n",
       "        text-align: right;\n",
       "    }\n",
       "</style>\n",
       "<table border=\"1\" class=\"dataframe\">\n",
       "  <thead>\n",
       "    <tr style=\"text-align: right;\">\n",
       "      <th></th>\n",
       "      <th>0</th>\n",
       "    </tr>\n",
       "    <tr>\n",
       "      <th>ID Loja</th>\n",
       "      <th></th>\n",
       "    </tr>\n",
       "  </thead>\n",
       "  <tbody>\n",
       "    <tr>\n",
       "      <th>Bourbon Shopping SP</th>\n",
       "      <td>194.754598</td>\n",
       "    </tr>\n",
       "    <tr>\n",
       "      <th>Center Shopping Uberlândia</th>\n",
       "      <td>193.453228</td>\n",
       "    </tr>\n",
       "    <tr>\n",
       "      <th>Iguatemi Campinas</th>\n",
       "      <td>197.248909</td>\n",
       "    </tr>\n",
       "    <tr>\n",
       "      <th>Iguatemi Esplanada</th>\n",
       "      <td>198.098019</td>\n",
       "    </tr>\n",
       "    <tr>\n",
       "      <th>Norte Shopping</th>\n",
       "      <td>189.923231</td>\n",
       "    </tr>\n",
       "    <tr>\n",
       "      <th>Novo Shopping Ribeirão Preto</th>\n",
       "      <td>191.775226</td>\n",
       "    </tr>\n",
       "    <tr>\n",
       "      <th>Palladium Shopping Curitiba</th>\n",
       "      <td>189.321307</td>\n",
       "    </tr>\n",
       "    <tr>\n",
       "      <th>Parque Dom Pedro Shopping</th>\n",
       "      <td>194.519552</td>\n",
       "    </tr>\n",
       "    <tr>\n",
       "      <th>Passei das Águas Shopping</th>\n",
       "      <td>191.345324</td>\n",
       "    </tr>\n",
       "    <tr>\n",
       "      <th>Ribeirão Shopping</th>\n",
       "      <td>193.441586</td>\n",
       "    </tr>\n",
       "    <tr>\n",
       "      <th>Rio Mar Recife</th>\n",
       "      <td>194.377299</td>\n",
       "    </tr>\n",
       "    <tr>\n",
       "      <th>Rio Mar Shopping Fortaleza</th>\n",
       "      <td>190.044758</td>\n",
       "    </tr>\n",
       "    <tr>\n",
       "      <th>Salvador Shopping</th>\n",
       "      <td>189.323868</td>\n",
       "    </tr>\n",
       "    <tr>\n",
       "      <th>Shopping Barra</th>\n",
       "      <td>191.375666</td>\n",
       "    </tr>\n",
       "    <tr>\n",
       "      <th>Shopping Center Interlagos</th>\n",
       "      <td>189.105014</td>\n",
       "    </tr>\n",
       "    <tr>\n",
       "      <th>Shopping Center Leste Aricanduva</th>\n",
       "      <td>188.282614</td>\n",
       "    </tr>\n",
       "    <tr>\n",
       "      <th>Shopping Eldorado</th>\n",
       "      <td>189.025232</td>\n",
       "    </tr>\n",
       "    <tr>\n",
       "      <th>Shopping Ibirapuera</th>\n",
       "      <td>187.442394</td>\n",
       "    </tr>\n",
       "    <tr>\n",
       "      <th>Shopping Iguatemi Fortaleza</th>\n",
       "      <td>194.092479</td>\n",
       "    </tr>\n",
       "    <tr>\n",
       "      <th>Shopping Midway Mall</th>\n",
       "      <td>193.814404</td>\n",
       "    </tr>\n",
       "    <tr>\n",
       "      <th>Shopping Morumbi</th>\n",
       "      <td>186.464974</td>\n",
       "    </tr>\n",
       "    <tr>\n",
       "      <th>Shopping Recife</th>\n",
       "      <td>189.357767</td>\n",
       "    </tr>\n",
       "    <tr>\n",
       "      <th>Shopping SP Market</th>\n",
       "      <td>192.871401</td>\n",
       "    </tr>\n",
       "    <tr>\n",
       "      <th>Shopping União de Osasco</th>\n",
       "      <td>190.580756</td>\n",
       "    </tr>\n",
       "    <tr>\n",
       "      <th>Shopping Vila Velha</th>\n",
       "      <td>187.680724</td>\n",
       "    </tr>\n",
       "  </tbody>\n",
       "</table>\n",
       "</div>"
      ],
      "text/plain": [
       "                                           0\n",
       "ID Loja                                     \n",
       "Bourbon Shopping SP               194.754598\n",
       "Center Shopping Uberlândia        193.453228\n",
       "Iguatemi Campinas                 197.248909\n",
       "Iguatemi Esplanada                198.098019\n",
       "Norte Shopping                    189.923231\n",
       "Novo Shopping Ribeirão Preto      191.775226\n",
       "Palladium Shopping Curitiba       189.321307\n",
       "Parque Dom Pedro Shopping         194.519552\n",
       "Passei das Águas Shopping         191.345324\n",
       "Ribeirão Shopping                 193.441586\n",
       "Rio Mar Recife                    194.377299\n",
       "Rio Mar Shopping Fortaleza        190.044758\n",
       "Salvador Shopping                 189.323868\n",
       "Shopping Barra                    191.375666\n",
       "Shopping Center Interlagos        189.105014\n",
       "Shopping Center Leste Aricanduva  188.282614\n",
       "Shopping Eldorado                 189.025232\n",
       "Shopping Ibirapuera               187.442394\n",
       "Shopping Iguatemi Fortaleza       194.092479\n",
       "Shopping Midway Mall              193.814404\n",
       "Shopping Morumbi                  186.464974\n",
       "Shopping Recife                   189.357767\n",
       "Shopping SP Market                192.871401\n",
       "Shopping União de Osasco          190.580756\n",
       "Shopping Vila Velha               187.680724"
      ]
     },
     "execution_count": 28,
     "metadata": {},
     "output_type": "execute_result"
    }
   ],
   "source": [
    "ticket_medio"
   ]
  },
  {
   "cell_type": "markdown",
   "id": "30d12326",
   "metadata": {},
   "source": [
    "# Conclusão deste projeto\n",
    "\n",
    "### Com este projeto conseguimos identificar informações de faturamento e descobrir qual o ticket médio por loja e conseguimos criar um gráfico que mostra o faturamento total por loja."
   ]
  }
 ],
 "metadata": {
  "kernelspec": {
   "display_name": "Python 3",
   "language": "python",
   "name": "python3"
  },
  "language_info": {
   "codemirror_mode": {
    "name": "ipython",
    "version": 3
   },
   "file_extension": ".py",
   "mimetype": "text/x-python",
   "name": "python",
   "nbconvert_exporter": "python",
   "pygments_lexer": "ipython3",
   "version": "3.8.8"
  }
 },
 "nbformat": 4,
 "nbformat_minor": 5
}
